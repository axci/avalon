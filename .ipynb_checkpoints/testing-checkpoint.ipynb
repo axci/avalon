{
 "cells": [
  {
   "cell_type": "code",
   "execution_count": 1,
   "id": "d1076cdf-acfd-4a70-b3f7-fdf02f3232e0",
   "metadata": {
    "tags": []
   },
   "outputs": [],
   "source": [
    "import gymnasium as gym"
   ]
  },
  {
   "cell_type": "code",
   "execution_count": 2,
   "id": "2dce41b3-36cf-43e6-a001-cf7987ac8530",
   "metadata": {
    "tags": []
   },
   "outputs": [],
   "source": [
    "class AvalonGameSetup:\n",
    "    \"\"\"\n",
    "    \n",
    "    CONFIG: Dict[num_players: List[List[num_good, num_evil], List[num_players_for_quest], List[num_fails_for_quest]]]\n",
    "    \"\"\"\n",
    "    CONFIG =   {\n",
    "            5 :  [[3, 2] , [2, 3, 2, 3, 3], [1, 1, 1, 1, 1],], \n",
    "            6 :  [[4, 2] , [2, 3, 4, 3, 4], [1, 1, 1, 1, 1],], \n",
    "            7 :  [[4, 3] , [2, 3, 3, 4, 4], [1, 1, 1, 2, 1],], \n",
    "            8 :  [[5, 3] , [3, 4, 4, 5, 5], [1, 1, 1, 2, 1],], \n",
    "            9 :  [[6, 3] , [3, 4, 4, 5, 5], [1, 1, 1, 2, 1],], \n",
    "            10 : [[6, 4] , [3, 4, 4, 5, 5], [1, 1, 1, 2, 1],],\n",
    "         }\n",
    "    PHASES = {\n",
    "        0 : \"Team Building\", \n",
    "        1 : \"Team Voting\", \n",
    "        2 : \"Quest Voting\", \n",
    "        3 : \"Assassination\",\n",
    "    }\n",
    "    ROLES = {\n",
    "        0 : \"Servant\", \n",
    "        1 : \"Merlin\", \n",
    "        2 : \"Minion\", \n",
    "        3 : \"Assassin\", \n",
    "    }\n",
    "    \n",
    "    \n",
    "\n",
    "class AvalonGameEnv(gym.Env):\n",
    "    # metadata = []\n",
    "    \n",
    "    def __init__(self, render_mode=None, num_players):\n",
    "        self.num_players = num_players\n",
    "        self.render_mode = render_mode\n",
    "        \n",
    "        # We have 4 actions, corresponding to \"right\", \"up\", \"left\", \"down\"\n",
    "        self.action_space = spaces.Discrete(4)"
   ]
  },
  {
   "cell_type": "code",
   "execution_count": null,
   "id": "e16d42b8-877f-4425-b1c8-87048baec8f6",
   "metadata": {},
   "outputs": [],
   "source": []
  }
 ],
 "metadata": {
  "kernelspec": {
   "display_name": "Python 3 (ipykernel)",
   "language": "python",
   "name": "python3"
  },
  "language_info": {
   "codemirror_mode": {
    "name": "ipython",
    "version": 3
   },
   "file_extension": ".py",
   "mimetype": "text/x-python",
   "name": "python",
   "nbconvert_exporter": "python",
   "pygments_lexer": "ipython3",
   "version": "3.11.0"
  }
 },
 "nbformat": 4,
 "nbformat_minor": 5
}
