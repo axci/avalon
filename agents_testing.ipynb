{
 "cells": [
  {
   "cell_type": "code",
   "execution_count": 1,
   "id": "dad8cc5e-e42a-47ee-862b-9b539ee6ba5f",
   "metadata": {
    "tags": []
   },
   "outputs": [],
   "source": [
    "from avalon_env import AvalonGameSetup, AvalonGameEnv, simulate_game\n",
    "from naive_agents import *\n",
    "from play_game import *"
   ]
  },
  {
   "cell_type": "code",
   "execution_count": 2,
   "id": "7370a837-9f9e-45bf-ab60-d2a7203bf720",
   "metadata": {
    "tags": []
   },
   "outputs": [
    {
     "data": {
      "text/plain": [
       "array([1, 0, 3, 2, 0, 0])"
      ]
     },
     "execution_count": 2,
     "metadata": {},
     "output_type": "execute_result"
    }
   ],
   "source": [
    "setup = AvalonGameSetup.from_num_players(6)\n",
    "env = AvalonGameEnv(setup)\n",
    "env.reset()\n",
    "env.roles"
   ]
  },
  {
   "cell_type": "markdown",
   "id": "59a61a57-626b-4f22-961f-9fd0bae3efe6",
   "metadata": {},
   "source": [
    "### Naive Servant"
   ]
  },
  {
   "cell_type": "code",
   "execution_count": 3,
   "id": "9a90b919-f04a-4e77-b471-4abb91c46aed",
   "metadata": {
    "tags": []
   },
   "outputs": [],
   "source": [
    "for i, role in enumerate(env.roles):\n",
    "    if role == 0:\n",
    "        player_id = i\n",
    "        break\n",
    "\n",
    "naiveservant = NaiveServant(env, player_id)"
   ]
  },
  {
   "cell_type": "code",
   "execution_count": 4,
   "id": "cca66b6e-c747-4c66-a6a0-0b7596d31308",
   "metadata": {
    "tags": []
   },
   "outputs": [
    {
     "data": {
      "text/plain": [
       "[NaiveServant(player #0, role=(0, 'Servant', True),\n",
       " NaiveAssassin(player #1, role=(3, 'Assassin', False),\n",
       " NaiveServant(player #2, role=(0, 'Servant', True),\n",
       " NaiveMerlin(player #3, role=(1, 'Merlin', True),\n",
       " NaiveMinion(player #4, role=(2, 'Minion', False)]"
      ]
     },
     "execution_count": 4,
     "metadata": {},
     "output_type": "execute_result"
    }
   ],
   "source": [
    "setup = AvalonGameSetup.from_num_players(5)\n",
    "env = AvalonGameEnv(setup)\n",
    "env.reset()\n",
    "players = []\n",
    "for i, role in enumerate(env.roles):\n",
    "    if role == 0:\n",
    "        players.append(NaiveServant(env, player=i))\n",
    "    elif role == 1:\n",
    "        players.append(NaiveMerlin(env, player=i))\n",
    "    elif role == 2:\n",
    "        players.append(NaiveMinion(env, player=i))\n",
    "    elif role == 3:\n",
    "        players.append(NaiveAssassin(env, player=i))\n",
    "players\n"
   ]
  },
  {
   "cell_type": "code",
   "execution_count": 5,
   "id": "d7be2b26-998f-4742-9ed5-a5e7c930c628",
   "metadata": {
    "tags": []
   },
   "outputs": [
    {
     "data": {
      "text/plain": [
       "[[0, 1, 0, 1, 1],\n",
       " [1, 1, 0, 1, 0],\n",
       " [0, 1, 1, 1, 0],\n",
       " [1, 0, 1, 1, 0],\n",
       " [1, 0, 0, 1, 1],\n",
       " [0, 0, 1, 1, 1]]"
      ]
     },
     "execution_count": 5,
     "metadata": {},
     "output_type": "execute_result"
    }
   ],
   "source": [
    "combs = env.get_combinations_for_servant(3)\n",
    "combs"
   ]
  },
  {
   "cell_type": "code",
   "execution_count": 6,
   "id": "a2948386-c098-4a5a-ae41-9e3b181402d6",
   "metadata": {
    "tags": []
   },
   "outputs": [
    {
     "data": {
      "text/plain": [
       "[[0, 1, 0, 1, 1],\n",
       " [1, 1, 0, 1, 0],\n",
       " [0, 1, 1, 1, 0],\n",
       " [1, 0, 1, 1, 0],\n",
       " [1, 0, 0, 1, 1],\n",
       " [0, 0, 1, 1, 1]]"
      ]
     },
     "execution_count": 6,
     "metadata": {},
     "output_type": "execute_result"
    }
   ],
   "source": [
    "quest_team = [0, 3, 2]\n",
    "accepted_votes = 3\n",
    "combs = env.get_combinations_for_servant(3)\n",
    "pc = [comb for comb in combs if sum( comb[member] for member in quest_team ) <= accepted_votes ]\n",
    "pc"
   ]
  },
  {
   "cell_type": "code",
   "execution_count": null,
   "id": "58aaee06-614f-4028-8f34-4f51c0daa5ad",
   "metadata": {},
   "outputs": [],
   "source": []
  },
  {
   "cell_type": "code",
   "execution_count": null,
   "id": "11de9efc-d995-45b6-bb94-c255b154295f",
   "metadata": {},
   "outputs": [],
   "source": []
  },
  {
   "cell_type": "code",
   "execution_count": 7,
   "id": "8c6def1b-48fc-4141-8edc-25d045674cdc",
   "metadata": {
    "tags": []
   },
   "outputs": [
    {
     "name": "stdout",
     "output_type": "stream",
     "text": [
      "== GAME BEGINS ==\n",
      "ROUND #1. Phase: (0, Team Building):\n",
      "Leader: player #2. Chosen Team: (1, 2))\n",
      "The next Leader: player #3\n",
      "=========================================\n",
      "Decision Maker: NaiveServant(player #2, role=(0, 'Servant', True)\n",
      "=============================\n",
      "\n",
      "ROUND #1. Phase: (1, Team Voting):\n",
      "Success. (3 out of 5) voted for the Team.\n",
      "The next Phase: (2, 'Quest Voting')\n",
      "=========================================\n",
      "Decision Makers:\n",
      "Player: NaiveServant(player #0, role=(0, 'Servant', True). Decision: 0 \n",
      "Player: NaiveAssassin(player #1, role=(3, 'Assassin', False). Decision: 1 \n",
      "Player: NaiveServant(player #2, role=(0, 'Servant', True). Decision: 1 \n",
      "Player: NaiveMerlin(player #3, role=(1, 'Merlin', True). Decision: 0 \n",
      "Player: NaiveMinion(player #4, role=(2, 'Minion', False). Decision: 1 \n",
      "=============================\n",
      "\n",
      "ROUND #1. Phase: (2, Quest Voting)\n",
      "Quest Team: (1, 2)\n",
      "Quest failed. 1 player(s) voted to Fail. \n",
      "Total number of failed Quests: 1.\n",
      "The next Round: 2. The next Phase: (0, 'Team Building')\n",
      "=========================================\n",
      "+++++ Updating Believes for player #0\n",
      "Player #0.\n",
      "Possible combinations : [[1, 0, 1, 0, 1], [1, 0, 1, 1, 0], [1, 1, 0, 1, 0], [1, 1, 0, 0, 1]]\n",
      "Probabilities to be Good: [1.  0.5 0.5 0.5 0.5]\n",
      "+++++ Updating Believes for player #2\n",
      "Player #2.\n",
      "Possible combinations : [[1, 0, 1, 1, 0], [1, 0, 1, 0, 1], [0, 0, 1, 1, 1]]\n",
      "Probabilities to be Good: [0.66666667 0.         1.         0.66666667 0.66666667]\n",
      "Decision Makers:\n",
      "Player: NaiveAssassin(player #1, role=(3, 'Assassin', False). Decision: 0 \n",
      "Player: NaiveServant(player #2, role=(0, 'Servant', True). Decision: 1 \n",
      "=============================\n",
      "\n",
      "ROUND #2. Phase: (0, Team Building):\n",
      "Leader: player #3. Chosen Team: (0, 2, 3))\n",
      "The next Leader: player #4\n",
      "=========================================\n",
      "Decision Maker: NaiveMerlin(player #3, role=(1, 'Merlin', True)\n",
      "=============================\n",
      "\n",
      "ROUND #2. Phase: (1, Team Voting):\n",
      "Success. (3 out of 5) voted for the Team.\n",
      "The next Phase: (2, 'Quest Voting')\n",
      "=========================================\n",
      "Decision Makers:\n",
      "Player: NaiveServant(player #0, role=(0, 'Servant', True). Decision: 1 \n",
      "Player: NaiveAssassin(player #1, role=(3, 'Assassin', False). Decision: 0 \n",
      "Player: NaiveServant(player #2, role=(0, 'Servant', True). Decision: 1 \n",
      "Player: NaiveMerlin(player #3, role=(1, 'Merlin', True). Decision: 1 \n",
      "Player: NaiveMinion(player #4, role=(2, 'Minion', False). Decision: 0 \n",
      "=============================\n",
      "\n",
      "ROUND #3. Phase: (2, Quest Voting):\n",
      "Quest Team: (0, 2, 3)\n",
      "Quest succeeded. 0 player(s) voted to Fail.\n",
      "Total number of failed Quests: 1.\n",
      "The next Round: 3. The next Phase: (0, 'Team Building')\n",
      "=========================================\n",
      "+++++ Updating Believes for player #0\n",
      "Player #0.\n",
      "Possible combinations : [[1, 0, 1, 1, 0]]\n",
      "Probabilities to be Good: [1. 0. 1. 1. 0.]\n",
      "+++++ Updating Believes for player #2\n",
      "Player #2.\n",
      "Possible combinations : [[1, 0, 1, 1, 0]]\n",
      "Probabilities to be Good: [1. 0. 1. 1. 0.]\n",
      "Decision Makers:\n",
      "Player: NaiveServant(player #0, role=(0, 'Servant', True). Decision: 1 \n",
      "Player: NaiveServant(player #2, role=(0, 'Servant', True). Decision: 1 \n",
      "Player: NaiveMerlin(player #3, role=(1, 'Merlin', True). Decision: 1 \n",
      "=============================\n",
      "\n",
      "ROUND #3. Phase: (0, Team Building):\n",
      "Leader: player #4. Chosen Team: [4, 2])\n",
      "The next Leader: player #0\n",
      "=========================================\n",
      "Decision Maker: NaiveMinion(player #4, role=(2, 'Minion', False)\n",
      "=============================\n",
      "\n",
      "ROUND #3. Phase: (1, Team Voting):\n",
      "Fail. 2 out of 5 players voted for the Team (should be majority).\n",
      "The total number of failed elections in this Round: 1.\n",
      "The next Phase: (0, 'Team Building').\n",
      "=========================================\n",
      "Decision Makers:\n",
      "Player: NaiveServant(player #0, role=(0, 'Servant', True). Decision: 0 \n",
      "Player: NaiveAssassin(player #1, role=(3, 'Assassin', False). Decision: 1 \n",
      "Player: NaiveServant(player #2, role=(0, 'Servant', True). Decision: 0 \n",
      "Player: NaiveMerlin(player #3, role=(1, 'Merlin', True). Decision: 0 \n",
      "Player: NaiveMinion(player #4, role=(2, 'Minion', False). Decision: 1 \n",
      "=============================\n",
      "\n",
      "ROUND #3. Phase: (0, Team Building):\n",
      "Leader: player #0. Chosen Team: (2, 3))\n",
      "The next Leader: player #1\n",
      "=========================================\n",
      "Decision Maker: NaiveServant(player #0, role=(0, 'Servant', True)\n",
      "=============================\n",
      "\n",
      "ROUND #3. Phase: (1, Team Voting):\n",
      "Success. (3 out of 5) voted for the Team.\n",
      "The next Phase: (2, 'Quest Voting')\n",
      "=========================================\n",
      "Decision Makers:\n",
      "Player: NaiveServant(player #0, role=(0, 'Servant', True). Decision: 1 \n",
      "Player: NaiveAssassin(player #1, role=(3, 'Assassin', False). Decision: 0 \n",
      "Player: NaiveServant(player #2, role=(0, 'Servant', True). Decision: 1 \n",
      "Player: NaiveMerlin(player #3, role=(1, 'Merlin', True). Decision: 1 \n",
      "Player: NaiveMinion(player #4, role=(2, 'Minion', False). Decision: 0 \n",
      "=============================\n",
      "\n",
      "ROUND #4. Phase: (2, Quest Voting):\n",
      "Quest Team: (2, 3)\n",
      "Quest succeeded. 0 player(s) voted to Fail.\n",
      "Total number of failed Quests: 1.\n",
      "The next Round: 4. The next Phase: (0, 'Team Building')\n",
      "=========================================\n",
      "+++++ Updating Believes for player #0\n",
      "Player #0.\n",
      "Possible combinations : [[1, 0, 1, 1, 0]]\n",
      "Probabilities to be Good: [1. 0. 1. 1. 0.]\n",
      "+++++ Updating Believes for player #2\n",
      "Player #2.\n",
      "Possible combinations : [[1, 0, 1, 1, 0]]\n",
      "Probabilities to be Good: [1. 0. 1. 1. 0.]\n",
      "Decision Makers:\n",
      "Player: NaiveServant(player #2, role=(0, 'Servant', True). Decision: 1 \n",
      "Player: NaiveMerlin(player #3, role=(1, 'Merlin', True). Decision: 1 \n",
      "=============================\n",
      "\n",
      "ROUND #4. Phase: (0, Team Building):\n",
      "Leader: player #1. Chosen Team: [1, 4, 2])\n",
      "The next Leader: player #2\n",
      "=========================================\n",
      "Decision Maker: NaiveAssassin(player #1, role=(3, 'Assassin', False)\n",
      "=============================\n",
      "\n",
      "ROUND #4. Phase: (1, Team Voting):\n",
      "Fail. 2 out of 5 players voted for the Team (should be majority).\n",
      "The total number of failed elections in this Round: 1.\n",
      "The next Phase: (0, 'Team Building').\n",
      "=========================================\n",
      "Decision Makers:\n",
      "Player: NaiveServant(player #0, role=(0, 'Servant', True). Decision: 0 \n",
      "Player: NaiveAssassin(player #1, role=(3, 'Assassin', False). Decision: 1 \n",
      "Player: NaiveServant(player #2, role=(0, 'Servant', True). Decision: 0 \n",
      "Player: NaiveMerlin(player #3, role=(1, 'Merlin', True). Decision: 0 \n",
      "Player: NaiveMinion(player #4, role=(2, 'Minion', False). Decision: 1 \n",
      "=============================\n",
      "\n",
      "ROUND #4. Phase: (0, Team Building):\n",
      "Leader: player #2. Chosen Team: (0, 2, 3))\n",
      "The next Leader: player #3\n",
      "=========================================\n",
      "Decision Maker: NaiveServant(player #2, role=(0, 'Servant', True)\n",
      "=============================\n",
      "\n",
      "ROUND #4. Phase: (1, Team Voting):\n",
      "Success. (3 out of 5) voted for the Team.\n",
      "The next Phase: (2, 'Quest Voting')\n",
      "=========================================\n",
      "Decision Makers:\n",
      "Player: NaiveServant(player #0, role=(0, 'Servant', True). Decision: 1 \n",
      "Player: NaiveAssassin(player #1, role=(3, 'Assassin', False). Decision: 0 \n",
      "Player: NaiveServant(player #2, role=(0, 'Servant', True). Decision: 1 \n",
      "Player: NaiveMerlin(player #3, role=(1, 'Merlin', True). Decision: 1 \n",
      "Player: NaiveMinion(player #4, role=(2, 'Minion', False). Decision: 0 \n",
      "=============================\n",
      "\n",
      "ROUND #4. Phase: (2, Quest Voting):\n",
      "Quest Team: (0, 2, 3)\n",
      "Quest succeeded. 0 player(s) voted to Fail.\n",
      "Total number of failed Quests: 1.\n",
      "The next Round: 4. The next Phase: (3, 'Assassination')\n",
      "=========================================\n",
      "+++++ Updating Believes for player #0\n",
      "Player #0.\n",
      "Possible combinations : [[1, 0, 1, 1, 0]]\n",
      "Probabilities to be Good: [1. 0. 1. 1. 0.]\n",
      "+++++ Updating Believes for player #2\n",
      "Player #2.\n",
      "Possible combinations : [[1, 0, 1, 1, 0]]\n",
      "Probabilities to be Good: [1. 0. 1. 1. 0.]\n",
      "Decision Makers:\n",
      "Player: NaiveServant(player #0, role=(0, 'Servant', True). Decision: 1 \n",
      "Player: NaiveServant(player #2, role=(0, 'Servant', True). Decision: 1 \n",
      "Player: NaiveMerlin(player #3, role=(1, 'Merlin', True). Decision: 1 \n",
      "=============================\n",
      "\n",
      "ROUND #4. Phase: (3, Assassination)\n",
      "Assassin chooses the player #0 ((0, 'Servant', True)) as a target.\n",
      "== The End. Good wins!\n",
      "========== THE END =============\n"
     ]
    },
    {
     "data": {
      "text/plain": [
       "{'num_players': 5, 'round': 3, 'phase': 3, 'good_victory': True}"
      ]
     },
     "execution_count": 7,
     "metadata": {},
     "output_type": "execute_result"
    }
   ],
   "source": [
    "stat = play_game(env, players, verbose=True)\n",
    "stat"
   ]
  },
  {
   "cell_type": "code",
   "execution_count": 8,
   "id": "1064a0a8-825b-4a31-b0f6-2cc6480384d8",
   "metadata": {
    "tags": []
   },
   "outputs": [
    {
     "name": "stderr",
     "output_type": "stream",
     "text": [
      "100%|██████████| 1000/1000 [00:04<00:00, 214.95it/s]\n"
     ]
    }
   ],
   "source": [
    "\n",
    "n_games = 1000\n",
    "n = 8\n",
    "_, stat_total = play_naive_games(n_games, n)\n",
    "\n"
   ]
  },
  {
   "cell_type": "code",
   "execution_count": 9,
   "id": "ac32efa8-c7fd-465e-a003-2886c5e2c572",
   "metadata": {
    "tags": []
   },
   "outputs": [
    {
     "data": {
      "text/plain": [
       "{'num_players': 8,\n",
       " 'good_victory': 204,\n",
       " 'Round 0': 0,\n",
       " 'Round 1': 0,\n",
       " 'Round 2': 754,\n",
       " 'Round 3': 164,\n",
       " 'Round 4': 82,\n",
       " 'Phase 1': 0,\n",
       " 'Phase 2': 747,\n",
       " 'Phase 3': 253}"
      ]
     },
     "execution_count": 9,
     "metadata": {},
     "output_type": "execute_result"
    }
   ],
   "source": [
    "stat_total"
   ]
  },
  {
   "cell_type": "code",
   "execution_count": null,
   "id": "0facd1f4-afee-4921-b99b-3f13e9d89239",
   "metadata": {
    "tags": []
   },
   "outputs": [],
   "source": []
  },
  {
   "cell_type": "code",
   "execution_count": null,
   "id": "068a5227-75c4-4cbd-a0f9-6f93da43f628",
   "metadata": {
    "tags": []
   },
   "outputs": [],
   "source": []
  },
  {
   "cell_type": "code",
   "execution_count": null,
   "id": "16d04bce-9278-4318-b351-81850eff3fee",
   "metadata": {
    "tags": []
   },
   "outputs": [],
   "source": []
  },
  {
   "cell_type": "code",
   "execution_count": null,
   "id": "c74fb86b-46ce-4bd9-b0d8-830934ea5fc1",
   "metadata": {
    "tags": []
   },
   "outputs": [],
   "source": []
  },
  {
   "cell_type": "code",
   "execution_count": null,
   "id": "108edd8b-37e2-493a-b15d-558481f6a1ce",
   "metadata": {
    "tags": []
   },
   "outputs": [],
   "source": []
  },
  {
   "cell_type": "code",
   "execution_count": null,
   "id": "d766c167-b014-4229-bbe7-9bfd452dfea2",
   "metadata": {},
   "outputs": [],
   "source": []
  }
 ],
 "metadata": {
  "kernelspec": {
   "display_name": "Python 3 (ipykernel)",
   "language": "python",
   "name": "python3"
  },
  "language_info": {
   "codemirror_mode": {
    "name": "ipython",
    "version": 3
   },
   "file_extension": ".py",
   "mimetype": "text/x-python",
   "name": "python",
   "nbconvert_exporter": "python",
   "pygments_lexer": "ipython3",
   "version": "3.11.0"
  }
 },
 "nbformat": 4,
 "nbformat_minor": 5
}
