{
 "cells": [
  {
   "cell_type": "code",
   "execution_count": 1,
   "id": "d1076cdf-acfd-4a70-b3f7-fdf02f3232e0",
   "metadata": {
    "tags": []
   },
   "outputs": [],
   "source": [
    "from avalon_env import AvalonGameSetup, AvalonGameEnv, simulate_game\n",
    "from naive_agents import *\n",
    "from play_game import *\n",
    "\n",
    "import numpy as np\n",
    "import matplotlib.pyplot as plt\n",
    "import pandas as pd"
   ]
  },
  {
   "cell_type": "markdown",
   "id": "e72472b4-214a-4d03-98bd-9e630c429422",
   "metadata": {},
   "source": [
    "### Play 1 game"
   ]
  },
  {
   "cell_type": "code",
   "execution_count": 2,
   "id": "7ac2e3c8-c04e-455d-9d94-54196c4ea54b",
   "metadata": {
    "tags": []
   },
   "outputs": [
    {
     "data": {
      "text/plain": [
       "[NaiveServant(player #0, role=(0, 'Servant', True),\n",
       " NaiveServant(player #1, role=(0, 'Servant', True),\n",
       " NaiveMinion(player #2, role=(2, 'Minion', False),\n",
       " NaiveMinion(player #3, role=(2, 'Minion', False),\n",
       " NaiveAssassin(player #4, role=(3, 'Assassin', False),\n",
       " NaiveServant(player #5, role=(0, 'Servant', True),\n",
       " NaiveMerlin(player #6, role=(1, 'Merlin', True)]"
      ]
     },
     "execution_count": 2,
     "metadata": {},
     "output_type": "execute_result"
    }
   ],
   "source": [
    "setup = AvalonGameSetup.from_num_players(7)\n",
    "env = AvalonGameEnv(setup)\n",
    "env.reset()\n",
    "players = []\n",
    "for i, role in enumerate(env.roles):\n",
    "    if role == 0:\n",
    "        players.append(NaiveServant(env, player=i))\n",
    "    elif role == 1:\n",
    "        players.append(NaiveMerlin(env, player=i))\n",
    "    elif role == 2:\n",
    "        players.append(NaiveMinion(env, player=i))\n",
    "    elif role == 3:\n",
    "        players.append(NaiveAssassin(env, player=i))\n",
    "players"
   ]
  },
  {
   "cell_type": "code",
   "execution_count": 3,
   "id": "f7e99686-6a97-4f3d-8eea-a415c9e24a48",
   "metadata": {
    "tags": []
   },
   "outputs": [
    {
     "name": "stdout",
     "output_type": "stream",
     "text": [
      "== GAME BEGINS ==\n",
      "ROUND #1. Phase: (0, Team Building):\n",
      "Leader: player #3. Chosen Team: [3, 4])\n",
      "The next Leader: player #4\n",
      "=========================================\n",
      "Decision Maker: NaiveMinion(player #3, role=(2, 'Minion', False)\n",
      "=============================\n",
      "\n",
      "ROUND #1. Phase: (1, Team Voting):\n",
      "Fail. 3 out of 7 players voted for the Team (should be majority).\n",
      "The total number of failed elections in this Round: 1.\n",
      "The next Phase: (0, 'Team Building').\n",
      "=========================================\n",
      "Decision Makers:\n",
      "Player: NaiveServant(player #0, role=(0, 'Servant', True). Decision: 0 \n",
      "Player: NaiveServant(player #1, role=(0, 'Servant', True). Decision: 0 \n",
      "Player: NaiveMinion(player #2, role=(2, 'Minion', False). Decision: 1 \n",
      "Player: NaiveMinion(player #3, role=(2, 'Minion', False). Decision: 1 \n",
      "Player: NaiveAssassin(player #4, role=(3, 'Assassin', False). Decision: 1 \n",
      "Player: NaiveServant(player #5, role=(0, 'Servant', True). Decision: 0 \n",
      "Player: NaiveMerlin(player #6, role=(1, 'Merlin', True). Decision: 0 \n",
      "=============================\n",
      "\n",
      "ROUND #1. Phase: (0, Team Building):\n",
      "Leader: player #4. Chosen Team: [4, 5])\n",
      "The next Leader: player #5\n",
      "=========================================\n",
      "Decision Maker: NaiveAssassin(player #4, role=(3, 'Assassin', False)\n",
      "=============================\n",
      "\n",
      "ROUND #1. Phase: (1, Team Voting):\n",
      "Fail. 3 out of 7 players voted for the Team (should be majority).\n",
      "The total number of failed elections in this Round: 2.\n",
      "The next Phase: (0, 'Team Building').\n",
      "=========================================\n",
      "Decision Makers:\n",
      "Player: NaiveServant(player #0, role=(0, 'Servant', True). Decision: 0 \n",
      "Player: NaiveServant(player #1, role=(0, 'Servant', True). Decision: 0 \n",
      "Player: NaiveMinion(player #2, role=(2, 'Minion', False). Decision: 1 \n",
      "Player: NaiveMinion(player #3, role=(2, 'Minion', False). Decision: 1 \n",
      "Player: NaiveAssassin(player #4, role=(3, 'Assassin', False). Decision: 1 \n",
      "Player: NaiveServant(player #5, role=(0, 'Servant', True). Decision: 0 \n",
      "Player: NaiveMerlin(player #6, role=(1, 'Merlin', True). Decision: 0 \n",
      "=============================\n",
      "\n",
      "ROUND #1. Phase: (0, Team Building):\n",
      "Leader: player #5. Chosen Team: (4, 5))\n",
      "The next Leader: player #6\n",
      "=========================================\n",
      "Decision Maker: NaiveServant(player #5, role=(0, 'Servant', True)\n",
      "=============================\n",
      "\n",
      "ROUND #1. Phase: (1, Team Voting):\n",
      "Success. (4 out of 7) voted for the Team.\n",
      "The next Phase: (2, 'Quest Voting')\n",
      "=========================================\n",
      "Decision Makers:\n",
      "Player: NaiveServant(player #0, role=(0, 'Servant', True). Decision: 0 \n",
      "Player: NaiveServant(player #1, role=(0, 'Servant', True). Decision: 0 \n",
      "Player: NaiveMinion(player #2, role=(2, 'Minion', False). Decision: 1 \n",
      "Player: NaiveMinion(player #3, role=(2, 'Minion', False). Decision: 1 \n",
      "Player: NaiveAssassin(player #4, role=(3, 'Assassin', False). Decision: 1 \n",
      "Player: NaiveServant(player #5, role=(0, 'Servant', True). Decision: 1 \n",
      "Player: NaiveMerlin(player #6, role=(1, 'Merlin', True). Decision: 0 \n",
      "=============================\n",
      "\n",
      "ROUND #1. Phase: (2, Quest Voting)\n",
      "Quest Team: (4, 5)\n",
      "Quest failed. 1 player(s) voted to Fail. \n",
      "Total number of failed Quests: 1.\n",
      "The next Round: 2. The next Phase: (0, 'Team Building')\n",
      "=========================================\n",
      "+++++ Updating Believes for player #0\n",
      "+++++++ This combination should be ruled out: [4, 5]\n",
      "To rule out: [{4, 5}]\n",
      "+++++ Updating Believes for player #1\n",
      "+++++++ This combination should be ruled out: [4, 5]\n",
      "To rule out: [{4, 5}]\n",
      "+++++ Updating Believes for player #5\n",
      "Belief: Player #4 is Evil.\n",
      "+++++++ This combination should be ruled out: []\n",
      "To rule out: []\n",
      "Decision Makers:\n",
      "Player: NaiveAssassin(player #4, role=(3, 'Assassin', False). Decision: 0 \n",
      "Player: NaiveServant(player #5, role=(0, 'Servant', True). Decision: 1 \n",
      "=============================\n",
      "\n",
      "ROUND #2. Phase: (0, Team Building):\n",
      "Leader: player #6. Chosen Team: (1, 5, 6))\n",
      "The next Leader: player #0\n",
      "=========================================\n",
      "Decision Maker: NaiveMerlin(player #6, role=(1, 'Merlin', True)\n",
      "=============================\n",
      "\n",
      "ROUND #2. Phase: (1, Team Voting):\n",
      "Fail. 3 out of 7 players voted for the Team (should be majority).\n",
      "The total number of failed elections in this Round: 1.\n",
      "The next Phase: (0, 'Team Building').\n",
      "=========================================\n",
      "Decision Makers:\n",
      "Player: NaiveServant(player #0, role=(0, 'Servant', True). Decision: 0 \n",
      "Player: NaiveServant(player #1, role=(0, 'Servant', True). Decision: 1 \n",
      "Player: NaiveMinion(player #2, role=(2, 'Minion', False). Decision: 0 \n",
      "Player: NaiveMinion(player #3, role=(2, 'Minion', False). Decision: 0 \n",
      "Player: NaiveAssassin(player #4, role=(3, 'Assassin', False). Decision: 0 \n",
      "Player: NaiveServant(player #5, role=(0, 'Servant', True). Decision: 1 \n",
      "Player: NaiveMerlin(player #6, role=(1, 'Merlin', True). Decision: 1 \n",
      "=============================\n",
      "\n",
      "ROUND #2. Phase: (0, Team Building):\n",
      "Leader: player #0. Chosen Team: (0, 3, 6))\n",
      "The next Leader: player #1\n",
      "=========================================\n",
      "Decision Maker: NaiveServant(player #0, role=(0, 'Servant', True)\n",
      "=============================\n",
      "\n",
      "ROUND #2. Phase: (1, Team Voting):\n",
      "Success. (4 out of 7) voted for the Team.\n",
      "The next Phase: (2, 'Quest Voting')\n",
      "=========================================\n",
      "Decision Makers:\n",
      "Player: NaiveServant(player #0, role=(0, 'Servant', True). Decision: 1 \n",
      "Player: NaiveServant(player #1, role=(0, 'Servant', True). Decision: 0 \n",
      "Player: NaiveMinion(player #2, role=(2, 'Minion', False). Decision: 1 \n",
      "Player: NaiveMinion(player #3, role=(2, 'Minion', False). Decision: 1 \n",
      "Player: NaiveAssassin(player #4, role=(3, 'Assassin', False). Decision: 1 \n",
      "Player: NaiveServant(player #5, role=(0, 'Servant', True). Decision: 0 \n",
      "Player: NaiveMerlin(player #6, role=(1, 'Merlin', True). Decision: 0 \n",
      "=============================\n",
      "\n",
      "ROUND #2. Phase: (2, Quest Voting)\n",
      "Quest Team: (0, 3, 6)\n",
      "Quest failed. 1 player(s) voted to Fail. \n",
      "Total number of failed Quests: 2.\n",
      "The next Round: 3. The next Phase: (0, 'Team Building')\n",
      "=========================================\n",
      "+++++ Updating Believes for player #0\n",
      "+++++++ This combination should be ruled out: [3, 6]\n",
      "To rule out: [{4, 5}, {3, 6}]\n",
      "+++++ Updating Believes for player #1\n",
      "+++++++ This combination should be ruled out: [0, 3, 6]\n",
      "To rule out: [{4, 5}, {0, 3, 6}]\n",
      "+++++ Updating Believes for player #5\n",
      "+++++++ This combination should be ruled out: [0, 3, 6]\n",
      "To rule out: [{0, 3, 6}]\n",
      "Decision Makers:\n",
      "Player: NaiveServant(player #0, role=(0, 'Servant', True). Decision: 1 \n",
      "Player: NaiveMinion(player #3, role=(2, 'Minion', False). Decision: 0 \n",
      "Player: NaiveMerlin(player #6, role=(1, 'Merlin', True). Decision: 1 \n",
      "=============================\n",
      "\n",
      "ROUND #3. Phase: (0, Team Building):\n",
      "Leader: player #1. Chosen Team: (0, 1, 4))\n",
      "The next Leader: player #2\n",
      "=========================================\n",
      "Decision Maker: NaiveServant(player #1, role=(0, 'Servant', True)\n",
      "=============================\n",
      "\n",
      "ROUND #3. Phase: (1, Team Voting):\n",
      "Success. (5 out of 7) voted for the Team.\n",
      "The next Phase: (2, 'Quest Voting')\n",
      "=========================================\n",
      "Decision Makers:\n",
      "Player: NaiveServant(player #0, role=(0, 'Servant', True). Decision: 1 \n",
      "Player: NaiveServant(player #1, role=(0, 'Servant', True). Decision: 1 \n",
      "Player: NaiveMinion(player #2, role=(2, 'Minion', False). Decision: 1 \n",
      "Player: NaiveMinion(player #3, role=(2, 'Minion', False). Decision: 1 \n",
      "Player: NaiveAssassin(player #4, role=(3, 'Assassin', False). Decision: 1 \n",
      "Player: NaiveServant(player #5, role=(0, 'Servant', True). Decision: 0 \n",
      "Player: NaiveMerlin(player #6, role=(1, 'Merlin', True). Decision: 0 \n",
      "=============================\n",
      "\n",
      "ROUND #3. Phase: (2, Quest Voting)\n",
      "Quest Team: (0, 1, 4)\n",
      "Quest failed. 1 player(s) voted to Fail.\n",
      "== The end. 3 failed Quests. Evil wins 😈 \n",
      "=========================================\n",
      "+++++ Updating Believes for player #0\n",
      "+++++++ This combination should be ruled out: [1, 4]\n",
      "To rule out: [{4, 5}, {3, 6}, {1, 4}]\n",
      "+++++ Updating Believes for player #1\n",
      "+++++++ This combination should be ruled out: [0, 4]\n",
      "To rule out: [{4, 5}, {0, 3, 6}, {0, 4}]\n",
      "+++++ Updating Believes for player #5\n",
      "+++++++ This combination should be ruled out: [0, 1, 4]\n",
      "To rule out: [{0, 3, 6}, {0, 1, 4}]\n",
      "Decision Makers:\n",
      "Player: NaiveServant(player #0, role=(0, 'Servant', True). Decision: 1 \n",
      "Player: NaiveServant(player #1, role=(0, 'Servant', True). Decision: 1 \n",
      "Player: NaiveAssassin(player #4, role=(3, 'Assassin', False). Decision: 0 \n",
      "=============================\n",
      "\n"
     ]
    },
    {
     "data": {
      "text/plain": [
       "{'num_players': 7, 'round': 2, 'phase': 2, 'good_victory': False}"
      ]
     },
     "execution_count": 3,
     "metadata": {},
     "output_type": "execute_result"
    }
   ],
   "source": [
    "stat = play_game(env, players, verbose=True)\n",
    "stat"
   ]
  },
  {
   "cell_type": "code",
   "execution_count": 4,
   "id": "9f49d841-b825-46d8-8bd8-2c1f85da4e68",
   "metadata": {
    "tags": []
   },
   "outputs": [
    {
     "data": {
      "text/plain": [
       "{'num_players': 7, 'round': 2, 'phase': 2, 'good_victory': False}"
      ]
     },
     "execution_count": 4,
     "metadata": {},
     "output_type": "execute_result"
    }
   ],
   "source": [
    "stat"
   ]
  },
  {
   "cell_type": "code",
   "execution_count": null,
   "id": "d4e822df-89f9-4f48-a8b9-21d7edcb5afd",
   "metadata": {
    "tags": []
   },
   "outputs": [],
   "source": []
  },
  {
   "cell_type": "code",
   "execution_count": null,
   "id": "822ea538-f143-4715-aff8-aa54c61bdada",
   "metadata": {
    "tags": []
   },
   "outputs": [],
   "source": []
  },
  {
   "cell_type": "code",
   "execution_count": 5,
   "id": "ef6431d6-b1e9-4043-8075-342343f1186f",
   "metadata": {
    "tags": []
   },
   "outputs": [
    {
     "name": "stderr",
     "output_type": "stream",
     "text": [
      "100%|██████████| 1000/1000 [00:00<00:00, 3528.46it/s]\n",
      "100%|██████████| 1000/1000 [00:00<00:00, 1882.34it/s]\n",
      "100%|██████████| 1000/1000 [00:00<00:00, 1684.63it/s]\n",
      "100%|██████████| 1000/1000 [00:01<00:00, 798.79it/s]\n",
      "100%|██████████| 1000/1000 [00:02<00:00, 438.45it/s]\n",
      "100%|██████████| 1000/1000 [00:03<00:00, 279.32it/s]\n"
     ]
    }
   ],
   "source": [
    "results = {}\n",
    "n_games = 1000\n",
    "for n in range(5, 11):\n",
    "    _, stat_total = play_naive_games(n_games, n)\n",
    "    good_win_percent = stat_total['good_victory'] / n_games\n",
    "    results[f'{n} players'] = good_win_percent"
   ]
  },
  {
   "cell_type": "code",
   "execution_count": 6,
   "id": "0be164ba-44b2-45a3-8de8-50afcad90c4c",
   "metadata": {
    "tags": []
   },
   "outputs": [
    {
     "data": {
      "text/plain": [
       "Text(0, 0.5, 'Good Win Rate')"
      ]
     },
     "execution_count": 6,
     "metadata": {},
     "output_type": "execute_result"
    },
    {
     "data": {
      "image/png": "[encoded data removed]",
      "text/plain": [
       "<Figure size 1000x600 with 1 Axes>"
      ]
     },
     "metadata": {},
     "output_type": "display_data"
    }
   ],
   "source": [
    "# Creating the bar chart\n",
    "plt.figure(figsize=(10, 6))\n",
    "plt.bar(list(results.keys()), list(results.values()), color='blue')\n",
    "\n",
    "# Adding title and labels\n",
    "plt.title('Naive Bot Statistics')\n",
    "plt.xlabel('Number of Players')\n",
    "plt.ylabel('Good Win Rate')\n"
   ]
  },
  {
   "cell_type": "code",
   "execution_count": null,
   "id": "c84b6a9d-e6ec-4ee0-91b9-874815047653",
   "metadata": {
    "tags": []
   },
   "outputs": [],
   "source": []
  },
  {
   "cell_type": "code",
   "execution_count": null,
   "id": "5da10202-f34f-4706-b3ea-f94cb4c94272",
   "metadata": {
    "tags": []
   },
   "outputs": [],
   "source": []
  },
  {
   "cell_type": "code",
   "execution_count": null,
   "id": "07fea5da-5427-458f-8857-a7f593f2562b",
   "metadata": {},
   "outputs": [],
   "source": []
  }
 ],
 "metadata": {
  "kernelspec": {
   "display_name": "Python 3 (ipykernel)",
   "language": "python",
   "name": "python3"
  },
  "language_info": {
   "codemirror_mode": {
    "name": "ipython",
    "version": 3
   },
   "file_extension": ".py",
   "mimetype": "text/x-python",
   "name": "python",
   "nbconvert_exporter": "python",
   "pygments_lexer": "ipython3",
   "version": "3.11.0"
  }
 },
 "nbformat": 4,
 "nbformat_minor": 5
}
